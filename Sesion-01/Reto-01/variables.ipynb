{
 "cells": [
  {
   "cell_type": "markdown",
   "metadata": {},
   "source": [
    "## Reto 1: Variables\n",
    "\n",
    "### 1. Objetivos:\n",
    "    - Practicar convención de nombramiento y asignación de variables\n",
    " \n",
    "---\n",
    "    \n",
    "### 2. Desarrollo:"
   ]
  },
  {
   "cell_type": "markdown",
   "metadata": {},
   "source": [
    "Indica cuáles nombres de variables son válidos y cuáles con inválidos. Puedes hacerlo colocando un comentario al lado de cada asignación (`# esto es un comentario`). Los comentarios son texto que Python ignora a la hora de correr una celda. Nos sirven para hacer anotaciones."
   ]
  },
  {
   "cell_type": "code",
   "execution_count": 1,
   "metadata": {},
   "outputs": [],
   "source": [
    "var_1 = 5\n",
    "\n",
    "variable_nueva_2 = 10\n",
    "\n",
    "Variable_nueva_3 = 11 #no\n",
    "\n",
    "var_3_1 = 14\n",
    "\n",
    "varNueva4 = 44 #no\n",
    "\n",
    "var_nuevaNumero = 98 #no\n",
    "\n",
    "var_num = 22 \n",
    "\n",
    "VarNum = 11 #no\n",
    "\n",
    "soyUnaVariable = 14 #no"
   ]
  },
  {
   "cell_type": "markdown",
   "metadata": {},
   "source": [
    "Ahora practica realizar algunas asignaciones en la celda de abajo. ¡Puedes asignarle a tus variables números enteros y también decimales!"
   ]
  },
  {
   "cell_type": "code",
   "execution_count": 2,
   "metadata": {},
   "outputs": [],
   "source": [
    "# Asigna el número 12345 a una variable llamada variable_locochona\n",
    "\n",
    "# Tu código va aquí...\n",
    "variable_locochona = 12345\n",
    "\n",
    "# Asigna el número 14.567 a una variable llamada var_decimal\n",
    "\n",
    "var_decimal = 14.567 \n",
    "\n",
    "# Asigna cualquier número a una varible que tenga 5 palabras en su nombre (recuerda las convenciones)\n",
    "\n",
    "soy_una_variable_cinco_palabras = 12233\n",
    "\n",
    "# Asigna cualquier número a una variable que incluya palabras y números en su nombre\n",
    "\n",
    "var_9 = 5555\n",
    "\n",
    "# Asigna variables a discreción\n",
    "\n",
    "# ..."
   ]
  },
  {
   "cell_type": "code",
   "execution_count": null,
   "metadata": {},
   "outputs": [],
   "source": []
  }
 ],
 "metadata": {
  "kernelspec": {
   "display_name": "Python 3",
   "language": "python",
   "name": "python3"
  },
  "language_info": {
   "codemirror_mode": {
    "name": "ipython",
    "version": 3
   },
   "file_extension": ".py",
   "mimetype": "text/x-python",
   "name": "python",
   "nbconvert_exporter": "python",
   "pygments_lexer": "ipython3",
   "version": "3.9.1-final"
  }
 },
 "nbformat": 4,
 "nbformat_minor": 4
}